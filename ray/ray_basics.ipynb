{
  "cells": [
    {
      "cell_type": "code",
      "execution_count": 7,
      "id": "99eadf0e",
      "metadata": {
        "colab": {
          "base_uri": "https://localhost:8080/"
        },
        "id": "99eadf0e",
        "outputId": "1831ca58-a04c-4bb4-dd5b-35de13fd00b6"
      },
      "outputs": [
        {
          "output_type": "stream",
          "name": "stdout",
          "text": [
            "Collecting ray\n",
            "  Downloading ray-2.49.0-cp312-cp312-manylinux2014_x86_64.whl.metadata (21 kB)\n",
            "Requirement already satisfied: click>=7.0 in /usr/local/lib/python3.12/dist-packages (from ray) (8.2.1)\n",
            "Requirement already satisfied: filelock in /usr/local/lib/python3.12/dist-packages (from ray) (3.19.1)\n",
            "Requirement already satisfied: jsonschema in /usr/local/lib/python3.12/dist-packages (from ray) (4.25.1)\n",
            "Requirement already satisfied: msgpack<2.0.0,>=1.0.0 in /usr/local/lib/python3.12/dist-packages (from ray) (1.1.1)\n",
            "Requirement already satisfied: packaging in /usr/local/lib/python3.12/dist-packages (from ray) (25.0)\n",
            "Requirement already satisfied: protobuf>=3.20.3 in /usr/local/lib/python3.12/dist-packages (from ray) (5.29.5)\n",
            "Requirement already satisfied: pyyaml in /usr/local/lib/python3.12/dist-packages (from ray) (6.0.2)\n",
            "Requirement already satisfied: requests in /usr/local/lib/python3.12/dist-packages (from ray) (2.32.4)\n",
            "Requirement already satisfied: attrs>=22.2.0 in /usr/local/lib/python3.12/dist-packages (from jsonschema->ray) (25.3.0)\n",
            "Requirement already satisfied: jsonschema-specifications>=2023.03.6 in /usr/local/lib/python3.12/dist-packages (from jsonschema->ray) (2025.4.1)\n",
            "Requirement already satisfied: referencing>=0.28.4 in /usr/local/lib/python3.12/dist-packages (from jsonschema->ray) (0.36.2)\n",
            "Requirement already satisfied: rpds-py>=0.7.1 in /usr/local/lib/python3.12/dist-packages (from jsonschema->ray) (0.27.0)\n",
            "Requirement already satisfied: charset_normalizer<4,>=2 in /usr/local/lib/python3.12/dist-packages (from requests->ray) (3.4.3)\n",
            "Requirement already satisfied: idna<4,>=2.5 in /usr/local/lib/python3.12/dist-packages (from requests->ray) (3.10)\n",
            "Requirement already satisfied: urllib3<3,>=1.21.1 in /usr/local/lib/python3.12/dist-packages (from requests->ray) (2.5.0)\n",
            "Requirement already satisfied: certifi>=2017.4.17 in /usr/local/lib/python3.12/dist-packages (from requests->ray) (2025.8.3)\n",
            "Requirement already satisfied: typing-extensions>=4.4.0 in /usr/local/lib/python3.12/dist-packages (from referencing>=0.28.4->jsonschema->ray) (4.15.0)\n",
            "Downloading ray-2.49.0-cp312-cp312-manylinux2014_x86_64.whl (70.1 MB)\n",
            "\u001b[2K   \u001b[90m━━━━━━━━━━━━━━━━━━━━━━━━━━━━━━━━━━━━━━━━\u001b[0m \u001b[32m70.1/70.1 MB\u001b[0m \u001b[31m9.3 MB/s\u001b[0m eta \u001b[36m0:00:00\u001b[0m\n",
            "\u001b[?25hInstalling collected packages: ray\n",
            "Successfully installed ray-2.49.0\n"
          ]
        }
      ],
      "source": [
        "!pip install ray"
      ]
    },
    {
      "cell_type": "code",
      "source": [
        "!lscpu"
      ],
      "metadata": {
        "colab": {
          "base_uri": "https://localhost:8080/"
        },
        "id": "10q-Fa--VAKn",
        "outputId": "f65c1ce3-f312-4b5a-8858-408b16808c58"
      },
      "id": "10q-Fa--VAKn",
      "execution_count": 18,
      "outputs": [
        {
          "output_type": "stream",
          "name": "stdout",
          "text": [
            "Architecture:             x86_64\n",
            "  CPU op-mode(s):         32-bit, 64-bit\n",
            "  Address sizes:          46 bits physical, 48 bits virtual\n",
            "  Byte Order:             Little Endian\n",
            "CPU(s):                   2\n",
            "  On-line CPU(s) list:    0,1\n",
            "Vendor ID:                GenuineIntel\n",
            "  Model name:             Intel(R) Xeon(R) CPU @ 2.20GHz\n",
            "    CPU family:           6\n",
            "    Model:                79\n",
            "    Thread(s) per core:   2\n",
            "    Core(s) per socket:   1\n",
            "    Socket(s):            1\n",
            "    Stepping:             0\n",
            "    BogoMIPS:             4399.99\n",
            "    Flags:                fpu vme de pse tsc msr pae mce cx8 apic sep mtrr pge m\n",
            "                          ca cmov pat pse36 clflush mmx fxsr sse sse2 ss ht sysc\n",
            "                          all nx pdpe1gb rdtscp lm constant_tsc rep_good nopl xt\n",
            "                          opology nonstop_tsc cpuid tsc_known_freq pni pclmulqdq\n",
            "                           ssse3 fma cx16 pcid sse4_1 sse4_2 x2apic movbe popcnt\n",
            "                           aes xsave avx f16c rdrand hypervisor lahf_lm abm 3dno\n",
            "                          wprefetch invpcid_single ssbd ibrs ibpb stibp fsgsbase\n",
            "                           tsc_adjust bmi1 hle avx2 smep bmi2 erms invpcid rtm r\n",
            "                          dseed adx smap xsaveopt arat md_clear arch_capabilitie\n",
            "                          s\n",
            "Virtualization features:  \n",
            "  Hypervisor vendor:      KVM\n",
            "  Virtualization type:    full\n",
            "Caches (sum of all):      \n",
            "  L1d:                    32 KiB (1 instance)\n",
            "  L1i:                    32 KiB (1 instance)\n",
            "  L2:                     256 KiB (1 instance)\n",
            "  L3:                     55 MiB (1 instance)\n",
            "NUMA:                     \n",
            "  NUMA node(s):           1\n",
            "  NUMA node0 CPU(s):      0,1\n",
            "Vulnerabilities:          \n",
            "  Gather data sampling:   Not affected\n",
            "  Itlb multihit:          Not affected\n",
            "  L1tf:                   Mitigation; PTE Inversion\n",
            "  Mds:                    Vulnerable; SMT Host state unknown\n",
            "  Meltdown:               Vulnerable\n",
            "  Mmio stale data:        Vulnerable\n",
            "  Reg file data sampling: Not affected\n",
            "  Retbleed:               Vulnerable\n",
            "  Spec rstack overflow:   Not affected\n",
            "  Spec store bypass:      Vulnerable\n",
            "  Spectre v1:             Vulnerable: __user pointer sanitization and usercopy b\n",
            "                          arriers only; no swapgs barriers\n",
            "  Spectre v2:             Vulnerable; IBPB: disabled; STIBP: disabled; PBRSB-eIB\n",
            "                          RS: Not affected; BHI: Vulnerable\n",
            "  Srbds:                  Not affected\n",
            "  Tsx async abort:        Vulnerable\n"
          ]
        }
      ]
    },
    {
      "cell_type": "markdown",
      "source": [],
      "metadata": {
        "id": "1FN_9wwlU_9I"
      },
      "id": "1FN_9wwlU_9I"
    },
    {
      "cell_type": "code",
      "execution_count": 8,
      "id": "7aac6903",
      "metadata": {
        "colab": {
          "base_uri": "https://localhost:8080/"
        },
        "id": "7aac6903",
        "outputId": "9a284222-4a51-4419-fe02-0abbc8e4be81"
      },
      "outputs": [
        {
          "output_type": "stream",
          "name": "stdout",
          "text": [
            "Ray is working!\n"
          ]
        },
        {
          "output_type": "stream",
          "name": "stderr",
          "text": [
            "2025-08-30 00:04:42,882\tINFO worker.py:1951 -- Started a local Ray instance.\n"
          ]
        }
      ],
      "source": [
        "%%python\n",
        "import ray\n",
        "ray.init()\n",
        "\n",
        "@ray.remote\n",
        "def hello_world():\n",
        "    return \"Ray is working!\"\n",
        "\n",
        "result = ray.get(hello_world.remote())\n",
        "print(result)"
      ]
    },
    {
      "cell_type": "code",
      "source": [
        "import ray\n",
        "\n",
        "def add(a,b):\n",
        "  return a+b\n",
        "\n",
        "@ray.remote\n",
        "def remote_add(a,b):\n",
        "  return a+b\n",
        "\n",
        "add, remote_add"
      ],
      "metadata": {
        "colab": {
          "base_uri": "https://localhost:8080/"
        },
        "id": "rJrNDdABTzVU",
        "outputId": "0e826c2a-9424-4fec-94d2-2a6a2b9c51c4"
      },
      "id": "rJrNDdABTzVU",
      "execution_count": 11,
      "outputs": [
        {
          "output_type": "execute_result",
          "data": {
            "text/plain": [
              "(<function __main__.add(a, b)>,\n",
              " <ray.remote_function.RemoteFunction at 0x7b92b3ccbe60>)"
            ]
          },
          "metadata": {},
          "execution_count": 11
        }
      ]
    },
    {
      "cell_type": "markdown",
      "source": [
        "Invoke function remotely."
      ],
      "metadata": {
        "id": "gqk-dyIjUyCe"
      },
      "id": "gqk-dyIjUyCe"
    },
    {
      "cell_type": "code",
      "source": [
        "object_ref = remote_add.remote(1,2)\n",
        "ray.get(object_ref)"
      ],
      "metadata": {
        "colab": {
          "base_uri": "https://localhost:8080/"
        },
        "id": "COj6Wza2USlX",
        "outputId": "2c169795-a103-4c99-aa78-a4c3b8f04963"
      },
      "id": "COj6Wza2USlX",
      "execution_count": 17,
      "outputs": [
        {
          "output_type": "execute_result",
          "data": {
            "text/plain": [
              "3"
            ]
          },
          "metadata": {},
          "execution_count": 17
        }
      ]
    },
    {
      "cell_type": "code",
      "source": [
        "import sys\n",
        "import numpy as np\n",
        "import os\n",
        "import time\n"
      ],
      "metadata": {
        "id": "8CZ0Dk-_Vo7w"
      },
      "id": "8CZ0Dk-_Vo7w",
      "execution_count": 40,
      "outputs": []
    },
    {
      "cell_type": "code",
      "source": [
        "@ray.remote\n",
        "def sqrt_add(a,b):\n",
        "  return np.sqrt(a) + b\n",
        "\n",
        "ray.get([sqrt_add.remote(1,2), sqrt_add.remote(4,5)])\n"
      ],
      "metadata": {
        "colab": {
          "base_uri": "https://localhost:8080/"
        },
        "id": "gl_ri_mTUT5m",
        "outputId": "ec7323bc-9947-448d-da06-8438b538cc2c"
      },
      "id": "gl_ri_mTUT5m",
      "execution_count": 23,
      "outputs": [
        {
          "output_type": "execute_result",
          "data": {
            "text/plain": [
              "[np.float64(3.0), np.float64(7.0)]"
            ]
          },
          "metadata": {},
          "execution_count": 23
        }
      ]
    },
    {
      "cell_type": "code",
      "source": [
        "jobs = []\n",
        "for i in range(20):\n",
        "  jobs.append(sqrt_add.remote(float(i**i), float(i**3)))\n",
        "\n",
        "ray.get(jobs)"
      ],
      "metadata": {
        "colab": {
          "base_uri": "https://localhost:8080/"
        },
        "id": "kB5KuWCwUc5a",
        "outputId": "1d9e2c1a-f81f-485e-fd1b-24459f977d2e"
      },
      "id": "kB5KuWCwUc5a",
      "execution_count": 29,
      "outputs": [
        {
          "output_type": "execute_result",
          "data": {
            "text/plain": [
              "[np.float64(1.0),\n",
              " np.float64(2.0),\n",
              " np.float64(10.0),\n",
              " np.float64(32.19615242270663),\n",
              " np.float64(80.0),\n",
              " np.float64(180.90169943749476),\n",
              " np.float64(432.0),\n",
              " np.float64(1250.4926996951544),\n",
              " np.float64(4608.0),\n",
              " np.float64(20412.0),\n",
              " np.float64(101000.0),\n",
              " np.float64(535476.7391115275),\n",
              " np.float64(2987712.0),\n",
              " np.float64(17405504.346371062),\n",
              " np.float64(105416248.0),\n",
              " np.float64(661738888.9184079),\n",
              " np.float64(4294971392.0),\n",
              " np.float64(28761789660.93136),\n",
              " np.float64(198359296200.0),\n",
              " np.float64(1406563071801.4553)]"
            ]
          },
          "metadata": {},
          "execution_count": 29
        }
      ]
    },
    {
      "cell_type": "code",
      "source": [
        "large_matrix = np.random.rand(1024, 1024, 1024//8) # approx. 1 GB\n",
        "size_in_bytes = sys.getsizeof(large_matrix)\n",
        "\n",
        "print(f\"large_matrix has: {size_in_bytes/1024/1024/1024:.2f} GB\")"
      ],
      "metadata": {
        "colab": {
          "base_uri": "https://localhost:8080/"
        },
        "id": "egrOmRaFWNJe",
        "outputId": "7d88cfbb-5501-4429-de2b-91869b2cc303"
      },
      "id": "egrOmRaFWNJe",
      "execution_count": 32,
      "outputs": [
        {
          "output_type": "stream",
          "name": "stdout",
          "text": [
            "large_matrix has: 1.00 GB\n"
          ]
        }
      ]
    },
    {
      "cell_type": "code",
      "source": [
        "obj_ref = ray.put(large_matrix)"
      ],
      "metadata": {
        "id": "V7-0SU6CXhCO"
      },
      "id": "V7-0SU6CXhCO",
      "execution_count": 33,
      "outputs": []
    },
    {
      "cell_type": "code",
      "source": [
        "large_mat_from_object_store = ray.get(obj_ref)\n"
      ],
      "metadata": {
        "id": "J5jqzPqVXrBb"
      },
      "id": "J5jqzPqVXrBb",
      "execution_count": 34,
      "outputs": []
    },
    {
      "cell_type": "code",
      "source": [
        "np.array_equal(large_mat_from_object_store, large_matrix)\n"
      ],
      "metadata": {
        "colab": {
          "base_uri": "https://localhost:8080/"
        },
        "id": "Pam0sR7cXtvr",
        "outputId": "a5b75de0-85e4-41be-8ce0-3c1a3848b746"
      },
      "id": "Pam0sR7cXtvr",
      "execution_count": 35,
      "outputs": [
        {
          "output_type": "execute_result",
          "data": {
            "text/plain": [
              "True"
            ]
          },
          "metadata": {},
          "execution_count": 35
        }
      ]
    },
    {
      "cell_type": "markdown",
      "source": [
        "Chaining tasks"
      ],
      "metadata": {
        "id": "OBg6CnzWX4ND"
      },
      "id": "OBg6CnzWX4ND"
    },
    {
      "cell_type": "code",
      "source": [
        "@ray.remote\n",
        "def sq(a):\n",
        "  return a**2\n",
        "\n",
        "@ray.remote\n",
        "def cube(a):\n",
        "  return a**3\n",
        "\n",
        "r = sq.remote(2)\n",
        "r = cube.remote(r)\n",
        "ray.get(r)"
      ],
      "metadata": {
        "colab": {
          "base_uri": "https://localhost:8080/"
        },
        "id": "nUzBVMXRXvOG",
        "outputId": "cb71c37a-b177-4c87-a7f0-e807436bb399"
      },
      "id": "nUzBVMXRXvOG",
      "execution_count": 37,
      "outputs": [
        {
          "output_type": "execute_result",
          "data": {
            "text/plain": [
              "64"
            ]
          },
          "metadata": {},
          "execution_count": 37
        }
      ]
    },
    {
      "cell_type": "code",
      "source": [
        "ray.available_resources()\n"
      ],
      "metadata": {
        "colab": {
          "base_uri": "https://localhost:8080/"
        },
        "id": "13MMxjbxYGLb",
        "outputId": "5dcc91a3-2bd6-4cca-c284-68359925e680"
      },
      "id": "13MMxjbxYGLb",
      "execution_count": 38,
      "outputs": [
        {
          "output_type": "execute_result",
          "data": {
            "text/plain": [
              "{'CPU': 2.0,\n",
              " 'object_store_memory': 2924238582.0,\n",
              " 'node:172.28.0.12': 1.0,\n",
              " 'node:__internal_head__': 1.0,\n",
              " 'memory': 9328621568.0}"
            ]
          },
          "metadata": {},
          "execution_count": 38
        }
      ]
    },
    {
      "cell_type": "code",
      "source": [
        "@ray.remote\n",
        "def expensive_square(x):\n",
        "    time.sleep(np.random.randint(1, 10))\n",
        "    return x**2"
      ],
      "metadata": {
        "id": "VND_LpvmaAD-"
      },
      "id": "VND_LpvmaAD-",
      "execution_count": 39,
      "outputs": []
    },
    {
      "cell_type": "code",
      "source": [
        "expensive_compute = []\n",
        "\n",
        "for i in range(15):\n",
        "    expensive_compute.append(expensive_square.remote(i))\n",
        "\n",
        "expensive_compute"
      ],
      "metadata": {
        "colab": {
          "base_uri": "https://localhost:8080/"
        },
        "id": "kCWQzCW-cE7L",
        "outputId": "c8fcb33d-596a-46e7-e1cd-cabab36a11d1"
      },
      "id": "kCWQzCW-cE7L",
      "execution_count": 41,
      "outputs": [
        {
          "output_type": "execute_result",
          "data": {
            "text/plain": [
              "[ObjectRef(852304542258e48cffffffffffffffffffffffff0100000001000000),\n",
              " ObjectRef(96eec688321e7882ffffffffffffffffffffffff0100000001000000),\n",
              " ObjectRef(e5b2fae6e42f6bbaffffffffffffffffffffffff0100000001000000),\n",
              " ObjectRef(74701ed4b46295a6ffffffffffffffffffffffff0100000001000000),\n",
              " ObjectRef(b53defeececf8bc6ffffffffffffffffffffffff0100000001000000),\n",
              " ObjectRef(641105d6352e1cecffffffffffffffffffffffff0100000001000000),\n",
              " ObjectRef(f173ee62d1d97be7ffffffffffffffffffffffff0100000001000000),\n",
              " ObjectRef(692f535a66884eb7ffffffffffffffffffffffff0100000001000000),\n",
              " ObjectRef(e36c19e9e03caebeffffffffffffffffffffffff0100000001000000),\n",
              " ObjectRef(2ca6f68d2b906770ffffffffffffffffffffffff0100000001000000),\n",
              " ObjectRef(ff79a3c11645664affffffffffffffffffffffff0100000001000000),\n",
              " ObjectRef(ea19b1b85fbbce81ffffffffffffffffffffffff0100000001000000),\n",
              " ObjectRef(4abf1de3f84b576dffffffffffffffffffffffff0100000001000000),\n",
              " ObjectRef(e593db9b22e29786ffffffffffffffffffffffff0100000001000000),\n",
              " ObjectRef(2587074a14f1fac4ffffffffffffffffffffffff0100000001000000)]"
            ]
          },
          "metadata": {},
          "execution_count": 41
        }
      ]
    },
    {
      "cell_type": "code",
      "source": [
        "ready_refs, not_ready_refs = ray.wait(expensive_compute) # wait for next object ref that is ready\n",
        "\n",
        "# process new item as soon as it becomes available\n",
        "while not_ready_refs:\n",
        "    print(f\"{ready_refs[0]} is ready; result: {ray.get(ready_refs[0])}\")\n",
        "    print(f\"{len(not_ready_refs)} items not ready... \\n\")\n",
        "\n",
        "    ready_refs, not_ready_refs = ray.wait(not_ready_refs) # wait for next item\n",
        "\n",
        "    assert len(ready_refs) == 1, f\"len(ready_refs) should be 1, got {len(ready_refs)} instead\"\n",
        "\n",
        "print(f\"I'm the last item: {ready_refs[0]}; result: {ray.get(ready_refs[0])}\")"
      ],
      "metadata": {
        "colab": {
          "base_uri": "https://localhost:8080/"
        },
        "id": "jeI9PJs7cLhp",
        "outputId": "9fddd9ce-0808-4140-dcd0-e64bcecc1cec"
      },
      "id": "jeI9PJs7cLhp",
      "execution_count": 42,
      "outputs": [
        {
          "output_type": "stream",
          "name": "stdout",
          "text": [
            "ObjectRef(852304542258e48cffffffffffffffffffffffff0100000001000000) is ready; result: 0\n",
            "14 items not ready... \n",
            "\n",
            "ObjectRef(96eec688321e7882ffffffffffffffffffffffff0100000001000000) is ready; result: 1\n",
            "13 items not ready... \n",
            "\n",
            "ObjectRef(e5b2fae6e42f6bbaffffffffffffffffffffffff0100000001000000) is ready; result: 4\n",
            "12 items not ready... \n",
            "\n",
            "ObjectRef(74701ed4b46295a6ffffffffffffffffffffffff0100000001000000) is ready; result: 9\n",
            "11 items not ready... \n",
            "\n",
            "ObjectRef(b53defeececf8bc6ffffffffffffffffffffffff0100000001000000) is ready; result: 16\n",
            "10 items not ready... \n",
            "\n",
            "ObjectRef(641105d6352e1cecffffffffffffffffffffffff0100000001000000) is ready; result: 25\n",
            "9 items not ready... \n",
            "\n",
            "ObjectRef(f173ee62d1d97be7ffffffffffffffffffffffff0100000001000000) is ready; result: 36\n",
            "8 items not ready... \n",
            "\n",
            "ObjectRef(692f535a66884eb7ffffffffffffffffffffffff0100000001000000) is ready; result: 49\n",
            "7 items not ready... \n",
            "\n",
            "ObjectRef(2ca6f68d2b906770ffffffffffffffffffffffff0100000001000000) is ready; result: 81\n",
            "6 items not ready... \n",
            "\n",
            "ObjectRef(e36c19e9e03caebeffffffffffffffffffffffff0100000001000000) is ready; result: 64\n",
            "5 items not ready... \n",
            "\n",
            "ObjectRef(ff79a3c11645664affffffffffffffffffffffff0100000001000000) is ready; result: 100\n",
            "4 items not ready... \n",
            "\n",
            "ObjectRef(ea19b1b85fbbce81ffffffffffffffffffffffff0100000001000000) is ready; result: 121\n",
            "3 items not ready... \n",
            "\n",
            "ObjectRef(4abf1de3f84b576dffffffffffffffffffffffff0100000001000000) is ready; result: 144\n",
            "2 items not ready... \n",
            "\n",
            "ObjectRef(e593db9b22e29786ffffffffffffffffffffffff0100000001000000) is ready; result: 169\n",
            "1 items not ready... \n",
            "\n",
            "I'm the last item: ObjectRef(2587074a14f1fac4ffffffffffffffffffffffff0100000001000000); result: 196\n"
          ]
        }
      ]
    },
    {
      "cell_type": "code",
      "source": [
        "BATCH_SIZE = 3\n",
        "\n",
        "ready_refs, not_ready_refs = ray.wait(expensive_compute, num_returns=BATCH_SIZE)  # wait for BATCH_SIZE object refs\n",
        "\n",
        "# process new item as soon as it becomes available\n",
        "while not_ready_refs:\n",
        "    print(f\"{ready_refs} are ready; results: {ray.get(ready_refs)}\")\n",
        "    print(f\"{len(not_ready_refs)} items not ready... \\n\")\n",
        "    ready_refs, not_ready_refs = ray.wait(not_ready_refs, num_returns=BATCH_SIZE)  # wait for BATCH_SIZE object refs\n",
        "\n",
        "print(f\"Last batch {ready_refs}; result: {ray.get(ready_refs)}\")"
      ],
      "metadata": {
        "colab": {
          "base_uri": "https://localhost:8080/"
        },
        "id": "QBNYWE3XcNgG",
        "outputId": "90c87709-6e76-424a-8ed6-e986dbd8ed19"
      },
      "id": "QBNYWE3XcNgG",
      "execution_count": 43,
      "outputs": [
        {
          "output_type": "stream",
          "name": "stdout",
          "text": [
            "[ObjectRef(852304542258e48cffffffffffffffffffffffff0100000001000000), ObjectRef(74701ed4b46295a6ffffffffffffffffffffffff0100000001000000), ObjectRef(e36c19e9e03caebeffffffffffffffffffffffff0100000001000000)] are ready; results: [0, 9, 64]\n",
            "12 items not ready... \n",
            "\n",
            "[ObjectRef(e5b2fae6e42f6bbaffffffffffffffffffffffff0100000001000000), ObjectRef(f173ee62d1d97be7ffffffffffffffffffffffff0100000001000000), ObjectRef(692f535a66884eb7ffffffffffffffffffffffff0100000001000000)] are ready; results: [4, 36, 49]\n",
            "9 items not ready... \n",
            "\n",
            "[ObjectRef(641105d6352e1cecffffffffffffffffffffffff0100000001000000), ObjectRef(e593db9b22e29786ffffffffffffffffffffffff0100000001000000), ObjectRef(2587074a14f1fac4ffffffffffffffffffffffff0100000001000000)] are ready; results: [25, 169, 196]\n",
            "6 items not ready... \n",
            "\n",
            "[ObjectRef(2ca6f68d2b906770ffffffffffffffffffffffff0100000001000000), ObjectRef(ff79a3c11645664affffffffffffffffffffffff0100000001000000), ObjectRef(4abf1de3f84b576dffffffffffffffffffffffff0100000001000000)] are ready; results: [81, 100, 144]\n",
            "3 items not ready... \n",
            "\n",
            "Last batch [ObjectRef(96eec688321e7882ffffffffffffffffffffffff0100000001000000), ObjectRef(b53defeececf8bc6ffffffffffffffffffffffff0100000001000000), ObjectRef(ea19b1b85fbbce81ffffffffffffffffffffffff0100000001000000)]; result: [1, 16, 121]\n"
          ]
        }
      ]
    }
  ],
  "metadata": {
    "jupytext": {
      "cell_metadata_filter": "-all",
      "main_language": "bash",
      "notebook_metadata_filter": "-all"
    },
    "language_info": {
      "name": "python"
    },
    "colab": {
      "provenance": []
    },
    "kernelspec": {
      "name": "python3",
      "display_name": "Python 3"
    }
  },
  "nbformat": 4,
  "nbformat_minor": 5
}