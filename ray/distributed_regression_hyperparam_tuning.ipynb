{
  "cells": [
    {
      "cell_type": "code",
      "execution_count": 1,
      "metadata": {
        "colab": {
          "base_uri": "https://localhost:8080/"
        },
        "id": "yn4Wug_zmWkO",
        "outputId": "0c5f52b9-092a-4c85-9356-0c3a32fd6278"
      },
      "outputs": [
        {
          "name": "stdout",
          "output_type": "stream",
          "text": [
            "\n",
            "\u001b[1m[\u001b[0m\u001b[34;49mnotice\u001b[0m\u001b[1;39;49m]\u001b[0m\u001b[39;49m A new release of pip is available: \u001b[0m\u001b[31;49m25.0.1\u001b[0m\u001b[39;49m -> \u001b[0m\u001b[32;49m25.2\u001b[0m\n",
            "\u001b[1m[\u001b[0m\u001b[34;49mnotice\u001b[0m\u001b[1;39;49m]\u001b[0m\u001b[39;49m To update, run: \u001b[0m\u001b[32;49mpip install --upgrade pip\u001b[0m\n",
            "\n",
            "\u001b[1m[\u001b[0m\u001b[34;49mnotice\u001b[0m\u001b[1;39;49m]\u001b[0m\u001b[39;49m A new release of pip is available: \u001b[0m\u001b[31;49m25.0.1\u001b[0m\u001b[39;49m -> \u001b[0m\u001b[32;49m25.2\u001b[0m\n",
            "\u001b[1m[\u001b[0m\u001b[34;49mnotice\u001b[0m\u001b[1;39;49m]\u001b[0m\u001b[39;49m To update, run: \u001b[0m\u001b[32;49mpip install --upgrade pip\u001b[0m\n"
          ]
        }
      ],
      "source": [
        "!pip install -q ray\n",
        "!pip install -q xgboost==2.0.3 xgboost_ray==0.1.19"
      ]
    },
    {
      "cell_type": "code",
      "execution_count": 2,
      "metadata": {
        "colab": {
          "base_uri": "https://localhost:8080/"
        },
        "id": "ZkuYxDqTmcHv",
        "outputId": "f58089fc-682b-4a6e-9988-56258f0c7c18"
      },
      "outputs": [
        {
          "name": "stderr",
          "output_type": "stream",
          "text": [
            "2025-08-30 09:51:27,252\tINFO util.py:154 -- Outdated packages:\n",
            "  ipywidgets==7.8.1 found, needs ipywidgets>=8\n",
            "Run `pip install -U ipywidgets`, then restart the notebook server for rich notebook output.\n",
            "2025-08-30 09:51:33,364\tINFO worker.py:1771 -- Started a local Ray instance.\n"
          ]
        },
        {
          "data": {
            "text/plain": [
              "{'CPU': 12.0,\n",
              " 'object_store_memory': 2147483648.0,\n",
              " 'node:__internal_head__': 1.0,\n",
              " 'memory': 4997518951.0,\n",
              " 'node:127.0.0.1': 1.0}"
            ]
          },
          "execution_count": 2,
          "metadata": {},
          "output_type": "execute_result"
        }
      ],
      "source": [
        "import ray\n",
        "# ray.shutdown()\n",
        "ray.init(ignore_reinit_error=True)\n",
        "ray.available_resources()"
      ]
    },
    {
      "cell_type": "markdown",
      "metadata": {
        "id": "vJq1Rr7x1Qtz"
      },
      "source": [
        "## Logistic regression"
      ]
    },
    {
      "cell_type": "code",
      "execution_count": 3,
      "metadata": {
        "colab": {
          "base_uri": "https://localhost:8080/"
        },
        "id": "bgkfvJiume0D",
        "outputId": "b0499475-f8b1-4655-9d5d-18b9e938dd19"
      },
      "outputs": [
        {
          "name": "stderr",
          "output_type": "stream",
          "text": [
            "\u001b[33m(raylet)\u001b[0m [2025-08-30 09:51:42,239 E 12667 1546480] (raylet) file_system_monitor.cc:111: /tmp/ray/session_2025-08-30_09-51-27_411810_12308 is over 95% full, available space: 9318305792; capacity: 250685575168. Object creation will fail if spilling is required.\n",
            "2025-08-30 09:51:48,720\tINFO util.py:154 -- Outdated packages:\n",
            "  ipywidgets==7.8.1 found, needs ipywidgets>=8\n",
            "Run `pip install -U ipywidgets`, then restart the notebook server for rich notebook output.\n",
            "2025-08-30 09:51:50,474\tINFO main.py:1140 -- [RayXGBoost] Created 2 new actors (2 total actors). Waiting until actors are ready for training.\n",
            "\u001b[33m(raylet)\u001b[0m [2025-08-30 09:51:52,260 E 12667 1546480] (raylet) file_system_monitor.cc:111: /tmp/ray/session_2025-08-30_09-51-27_411810_12308 is over 95% full, available space: 9313808384; capacity: 250685575168. Object creation will fail if spilling is required.\n",
            "2025-08-30 09:51:54,968\tINFO main.py:1191 -- [RayXGBoost] Starting XGBoost training.\n",
            "\u001b[36m(_RemoteRayXGBoostActor pid=12931)\u001b[0m [09:51:55] task [xgboost.ray]:7077330144 got new rank 0\n",
            "2025-08-30 09:51:59,064\tINFO main.py:1708 -- [RayXGBoost] Finished XGBoost training on training data with total N=1,000 in 9.40 seconds (4.08 pure XGBoost training time).\n"
          ]
        },
        {
          "name": "stdout",
          "output_type": "stream",
          "text": [
            "Final training error: 0.0000\n"
          ]
        },
        {
          "name": "stderr",
          "output_type": "stream",
          "text": [
            "/usr/local/anaconda3/lib/python3.12/site-packages/xgboost/core.py:160: UserWarning: [09:51:59] WARNING: /Users/runner/work/xgboost/xgboost/src/c_api/c_api.cc:1240: Saving into deprecated binary model format, please consider using `json` or `ubj`. Model format will default to JSON in XGBoost 2.2 if not specified.\n",
            "  warnings.warn(smsg, UserWarning)\n"
          ]
        }
      ],
      "source": [
        "import xgboost as xgb\n",
        "import numpy as np\n",
        "from xgboost_ray import RayDMatrix, RayParams, predict, train\n",
        "\n",
        "x = np.array(range(1000)).reshape(-1, 1)\n",
        "y = x.flatten() < 500\n",
        "\n",
        "train_set = RayDMatrix(x, y)\n",
        "\n",
        "evals_result = {}\n",
        "bst = train(\n",
        "    {\n",
        "        \"objective\": \"binary:logistic\",\n",
        "        \"eval_metric\": [\"logloss\", \"error\"],\n",
        "    },\n",
        "    train_set,\n",
        "    num_boost_round=10,\n",
        "    evals_result=evals_result,\n",
        "    evals=[(train_set, \"train\")],\n",
        "    verbose_eval=False,\n",
        "    ray_params=RayParams(num_actors=2, cpus_per_actor=1, gpus_per_actor=0))\n",
        "\n",
        "bst.save_model(\"model.xgb\")\n",
        "print(\"Final training error: {:.4f}\".format(\n",
        "    evals_result[\"train\"][\"error\"][-1]))"
      ]
    },
    {
      "cell_type": "code",
      "execution_count": 4,
      "metadata": {
        "colab": {
          "base_uri": "https://localhost:8080/",
          "height": 232
        },
        "id": "JwTwzn7m0kM4",
        "outputId": "019e7f39-2b2b-4ace-acdf-b1cd8ac2ee9f"
      },
      "outputs": [
        {
          "data": {
            "text/plain": [
              "[<matplotlib.lines.Line2D at 0x1dee192e0>]"
            ]
          },
          "execution_count": 4,
          "metadata": {},
          "output_type": "execute_result"
        },
        {
          "data": {
            "image/png": "[encoded data removed]",
            "text/plain": [
              "<Figure size 800x200 with 1 Axes>"
            ]
          },
          "metadata": {},
          "output_type": "display_data"
        }
      ],
      "source": [
        "import matplotlib.pyplot as plt\n",
        "plt.figure(figsize=(8, 2))\n",
        "plt.plot(evals_result[\"train\"][\"logloss\"])"
      ]
    },
    {
      "cell_type": "markdown",
      "metadata": {
        "id": "-VksiQke1NA9"
      },
      "source": [
        "## Linear regression"
      ]
    },
    {
      "cell_type": "code",
      "execution_count": 5,
      "metadata": {
        "colab": {
          "base_uri": "https://localhost:8080/"
        },
        "id": "Ruc29ZJK0mly",
        "outputId": "4dddcf0c-37b1-4168-eb0a-8f986ecaf230"
      },
      "outputs": [
        {
          "name": "stderr",
          "output_type": "stream",
          "text": [
            "2025-08-30 09:52:01,252\tINFO main.py:1140 -- [RayXGBoost] Created 2 new actors (2 total actors). Waiting until actors are ready for training.\n",
            "\u001b[33m(raylet)\u001b[0m [2025-08-30 09:52:02,342 E 12667 1546480] (raylet) file_system_monitor.cc:111: /tmp/ray/session_2025-08-30_09-51-27_411810_12308 is over 95% full, available space: 9311735808; capacity: 250685575168. Object creation will fail if spilling is required.\n",
            "2025-08-30 09:52:06,189\tINFO main.py:1191 -- [RayXGBoost] Starting XGBoost training.\n",
            "\u001b[36m(_RemoteRayXGBoostActor pid=13012)\u001b[0m [09:52:06] task [xgboost.ray]:7176894512 got new rank 0\n",
            "2025-08-30 09:52:11,886\tINFO main.py:1708 -- [RayXGBoost] Finished XGBoost training on training data with total N=1,000 in 10.70 seconds (5.69 pure XGBoost training time).\n"
          ]
        },
        {
          "name": "stdout",
          "output_type": "stream",
          "text": [
            "Final training error: 1392.9984\n"
          ]
        },
        {
          "name": "stderr",
          "output_type": "stream",
          "text": [
            "/usr/local/anaconda3/lib/python3.12/site-packages/xgboost/core.py:160: UserWarning: [09:52:11] WARNING: /Users/runner/work/xgboost/xgboost/src/c_api/c_api.cc:1240: Saving into deprecated binary model format, please consider using `json` or `ubj`. Model format will default to JSON in XGBoost 2.2 if not specified.\n",
            "  warnings.warn(smsg, UserWarning)\n"
          ]
        }
      ],
      "source": [
        "x = np.array(range(1000)).reshape(-1, 1)\n",
        "y = (x**2 + 10).flatten() # Flatten y to make it 1D\n",
        "\n",
        "train_set = RayDMatrix(x, y)\n",
        "\n",
        "evals_result = {}\n",
        "bst = train(\n",
        "    {\n",
        "        \"objective\": \"reg:squarederror\",\n",
        "        \"eval_metric\": [\"rmse\"],\n",
        "        \"tree_method\": \"hist\",\n",
        "        \"max_depth\": 3,\n",
        "        \"eta\": 0.1,\n",
        "    },\n",
        "    train_set,\n",
        "    num_boost_round=500,\n",
        "    evals_result=evals_result,\n",
        "    evals=[(train_set, \"train\")],\n",
        "    verbose_eval=False,\n",
        "    ray_params=RayParams(num_actors=2, cpus_per_actor=1, gpus_per_actor=0))\n",
        "\n",
        "bst.save_model(\"model.xgb\")\n",
        "print(\"Final training error: {:.4f}\".format(\n",
        "    evals_result[\"train\"][\"rmse\"][-1])) # Changed error to rmse based on eval_metric"
      ]
    },
    {
      "cell_type": "markdown",
      "metadata": {
        "id": "sefVcVdG34YJ"
      },
      "source": []
    },
    {
      "cell_type": "code",
      "execution_count": 6,
      "metadata": {
        "colab": {
          "base_uri": "https://localhost:8080/",
          "height": 232
        },
        "id": "vu_smWGw1tdH",
        "outputId": "0f2bed6e-ff00-4d03-ff15-63838be74ac0"
      },
      "outputs": [
        {
          "data": {
            "text/plain": [
              "[<matplotlib.lines.Line2D at 0x1defd2930>]"
            ]
          },
          "execution_count": 6,
          "metadata": {},
          "output_type": "execute_result"
        },
        {
          "data": {
            "image/png": "[encoded data removed]",
            "text/plain": [
              "<Figure size 800x200 with 1 Axes>"
            ]
          },
          "metadata": {},
          "output_type": "display_data"
        }
      ],
      "source": [
        "import matplotlib.pyplot as plt\n",
        "plt.figure(figsize=(8, 2))\n",
        "plt.yscale(\"log\")\n",
        "plt.plot(evals_result[\"train\"][\"rmse\"])"
      ]
    },
    {
      "cell_type": "code",
      "execution_count": 19,
      "metadata": {
        "colab": {
          "base_uri": "https://localhost:8080/"
        },
        "id": "FrLwztEN2J_x",
        "outputId": "4b4ee699-ea69-4faa-bdf6-c9e0418e174f"
      },
      "outputs": [
        {
          "data": {
            "text/html": [
              "<div class=\"tuneStatus\">\n",
              "  <div style=\"display: flex;flex-direction: row\">\n",
              "    <div style=\"display: flex;flex-direction: column;\">\n",
              "      <h3>Tune Status</h3>\n",
              "      <table>\n",
              "<tbody>\n",
              "<tr><td>Current time:</td><td>2025-08-30 10:09:10</td></tr>\n",
              "<tr><td>Running for: </td><td>00:01:38.53        </td></tr>\n",
              "<tr><td>Memory:      </td><td>10.3/16.0 GiB      </td></tr>\n",
              "</tbody>\n",
              "</table>\n",
              "    </div>\n",
              "    <div class=\"vDivider\"></div>\n",
              "    <div class=\"systemInfo\">\n",
              "      <h3>System Info</h3>\n",
              "      Using FIFO scheduling algorithm.<br>Logical resource usage: 3.0/12 CPUs, 0/0 GPUs\n",
              "    </div>\n",
              "    \n",
              "  </div>\n",
              "  <div class=\"hDivider\"></div>\n",
              "  <div class=\"trialStatus\">\n",
              "    <h3>Trial Status</h3>\n",
              "    <table>\n",
              "<thead>\n",
              "<tr><th>Trial name           </th><th>status    </th><th>loc            </th><th style=\"text-align: right;\">        eta</th><th style=\"text-align: right;\">  max_depth</th><th style=\"text-align: right;\">  min_child_weight</th><th style=\"text-align: right;\">  subsample</th><th style=\"text-align: right;\">  iter</th><th style=\"text-align: right;\">  total time (s)</th><th style=\"text-align: right;\">     rmse</th></tr>\n",
              "</thead>\n",
              "<tbody>\n",
              "<tr><td>objective_0ad4b_00000</td><td>TERMINATED</td><td>127.0.0.1:19311</td><td style=\"text-align: right;\">0.00372102 </td><td style=\"text-align: right;\">          4</td><td style=\"text-align: right;\">                 2</td><td style=\"text-align: right;\">   0.502946</td><td style=\"text-align: right;\">     1</td><td style=\"text-align: right;\">         24.6471</td><td style=\"text-align: right;\">  8420.15</td></tr>\n",
              "<tr><td>objective_0ad4b_00001</td><td>TERMINATED</td><td>127.0.0.1:19312</td><td style=\"text-align: right;\">0.0283928  </td><td style=\"text-align: right;\">          1</td><td style=\"text-align: right;\">                 3</td><td style=\"text-align: right;\">   0.795508</td><td style=\"text-align: right;\">     1</td><td style=\"text-align: right;\">         25.8596</td><td style=\"text-align: right;\">  2300.42</td></tr>\n",
              "<tr><td>objective_0ad4b_00002</td><td>TERMINATED</td><td>127.0.0.1:19313</td><td style=\"text-align: right;\">0.0822631  </td><td style=\"text-align: right;\">          8</td><td style=\"text-align: right;\">                 3</td><td style=\"text-align: right;\">   0.527507</td><td style=\"text-align: right;\">     1</td><td style=\"text-align: right;\">         29.3553</td><td style=\"text-align: right;\">  1280.66</td></tr>\n",
              "<tr><td>objective_0ad4b_00003</td><td>TERMINATED</td><td>127.0.0.1:19314</td><td style=\"text-align: right;\">0.0223949  </td><td style=\"text-align: right;\">          1</td><td style=\"text-align: right;\">                 2</td><td style=\"text-align: right;\">   0.92939 </td><td style=\"text-align: right;\">     1</td><td style=\"text-align: right;\">         25.908 </td><td style=\"text-align: right;\">  1834.4 </td></tr>\n",
              "<tr><td>objective_0ad4b_00004</td><td>TERMINATED</td><td>127.0.0.1:19556</td><td style=\"text-align: right;\">0.0928681  </td><td style=\"text-align: right;\">          7</td><td style=\"text-align: right;\">                 1</td><td style=\"text-align: right;\">   0.603818</td><td style=\"text-align: right;\">     1</td><td style=\"text-align: right;\">         30.9758</td><td style=\"text-align: right;\">  1286.29</td></tr>\n",
              "<tr><td>objective_0ad4b_00005</td><td>TERMINATED</td><td>127.0.0.1:19562</td><td style=\"text-align: right;\">0.00101453 </td><td style=\"text-align: right;\">          2</td><td style=\"text-align: right;\">                 3</td><td style=\"text-align: right;\">   0.691731</td><td style=\"text-align: right;\">     1</td><td style=\"text-align: right;\">         27.66  </td><td style=\"text-align: right;\">117159   </td></tr>\n",
              "<tr><td>objective_0ad4b_00006</td><td>TERMINATED</td><td>127.0.0.1:19563</td><td style=\"text-align: right;\">0.000230975</td><td style=\"text-align: right;\">          1</td><td style=\"text-align: right;\">                 1</td><td style=\"text-align: right;\">   0.90459 </td><td style=\"text-align: right;\">     1</td><td style=\"text-align: right;\">         27.3704</td><td style=\"text-align: right;\">251098   </td></tr>\n",
              "<tr><td>objective_0ad4b_00007</td><td>TERMINATED</td><td>127.0.0.1:19589</td><td style=\"text-align: right;\">0.000169842</td><td style=\"text-align: right;\">          6</td><td style=\"text-align: right;\">                 3</td><td style=\"text-align: right;\">   0.924139</td><td style=\"text-align: right;\">     1</td><td style=\"text-align: right;\">         28.8135</td><td style=\"text-align: right;\">252126   </td></tr>\n",
              "<tr><td>objective_0ad4b_00008</td><td>TERMINATED</td><td>127.0.0.1:19802</td><td style=\"text-align: right;\">0.00357698 </td><td style=\"text-align: right;\">          1</td><td style=\"text-align: right;\">                 3</td><td style=\"text-align: right;\">   0.959394</td><td style=\"text-align: right;\">     1</td><td style=\"text-align: right;\">         17.8472</td><td style=\"text-align: right;\"> 39827.7 </td></tr>\n",
              "<tr><td>objective_0ad4b_00009</td><td>TERMINATED</td><td>127.0.0.1:19803</td><td style=\"text-align: right;\">0.000233404</td><td style=\"text-align: right;\">          2</td><td style=\"text-align: right;\">                 1</td><td style=\"text-align: right;\">   0.952194</td><td style=\"text-align: right;\">     1</td><td style=\"text-align: right;\">         17.9702</td><td style=\"text-align: right;\">239517   </td></tr>\n",
              "</tbody>\n",
              "</table>\n",
              "  </div>\n",
              "</div>\n",
              "<style>\n",
              ".tuneStatus {\n",
              "  color: var(--jp-ui-font-color1);\n",
              "}\n",
              ".tuneStatus .systemInfo {\n",
              "  display: flex;\n",
              "  flex-direction: column;\n",
              "}\n",
              ".tuneStatus td {\n",
              "  white-space: nowrap;\n",
              "}\n",
              ".tuneStatus .trialStatus {\n",
              "  display: flex;\n",
              "  flex-direction: column;\n",
              "}\n",
              ".tuneStatus h3 {\n",
              "  font-weight: bold;\n",
              "}\n",
              ".tuneStatus .hDivider {\n",
              "  border-bottom-width: var(--jp-border-width);\n",
              "  border-bottom-color: var(--jp-border-color0);\n",
              "  border-bottom-style: solid;\n",
              "}\n",
              ".tuneStatus .vDivider {\n",
              "  border-left-width: var(--jp-border-width);\n",
              "  border-left-color: var(--jp-border-color0);\n",
              "  border-left-style: solid;\n",
              "  margin: 0.5em 1em 0.5em 1em;\n",
              "}\n",
              "</style>\n"
            ],
            "text/plain": [
              "<IPython.core.display.HTML object>"
            ]
          },
          "metadata": {},
          "output_type": "display_data"
        },
        {
          "name": "stderr",
          "output_type": "stream",
          "text": [
            "\u001b[36m(objective pid=19312)\u001b[0m [RayXGBoost] Created 2 new actors (2 total actors). Waiting until actors are ready for training.\n",
            "\u001b[33m(raylet)\u001b[0m [2025-08-30 10:07:39,237 E 19287 1594363] (raylet) file_system_monitor.cc:111: /tmp/ray/session_2025-08-30_10-07-26_200899_12308 is over 95% full, available space: 8207097856; capacity: 250685575168. Object creation will fail if spilling is required.\n",
            "\u001b[36m(objective pid=19311)\u001b[0m [RayXGBoost] Starting XGBoost training.\n",
            "\u001b[36m(objective pid=19314)\u001b[0m [RayXGBoost] Created 2 new actors (2 total actors). Waiting until actors are ready for training.\u001b[32m [repeated 3x across cluster]\u001b[0m\n",
            "\u001b[36m(_RemoteRayXGBoostActor pid=19363)\u001b[0m [10:07:48] task [xgboost.ray]:7221132128 got new rank 0\n",
            "\u001b[33m(raylet)\u001b[0m [2025-08-30 10:07:49,298 E 19287 1594363] (raylet) file_system_monitor.cc:111: /tmp/ray/session_2025-08-30_10-07-26_200899_12308 is over 95% full, available space: 8206553088; capacity: 250685575168. Object creation will fail if spilling is required.\n",
            "\u001b[36m(objective pid=19314)\u001b[0m [RayXGBoost] Starting XGBoost training.\u001b[32m [repeated 3x across cluster]\u001b[0m\n",
            "\u001b[36m(_RemoteRayXGBoostActor pid=19387)\u001b[0m [10:07:50] task [xgboost.ray]:7131786624 got new rank 0\u001b[32m [repeated 7x across cluster]\u001b[0m\n",
            "\u001b[33m(raylet)\u001b[0m [2025-08-30 10:07:59,334 E 19287 1594363] (raylet) file_system_monitor.cc:111: /tmp/ray/session_2025-08-30_10-07-26_200899_12308 is over 95% full, available space: 8206290944; capacity: 250685575168. Object creation will fail if spilling is required.\n",
            "\u001b[36m(objective pid=19311)\u001b[0m [RayXGBoost] Finished XGBoost training on training data with total N=1,000 in 24.61 seconds (14.86 pure XGBoost training time).\n",
            "\u001b[33m(raylet)\u001b[0m [2025-08-30 10:08:09,397 E 19287 1594363] (raylet) file_system_monitor.cc:111: /tmp/ray/session_2025-08-30_10-07-26_200899_12308 is over 95% full, available space: 8098566144; capacity: 250685575168. Object creation will fail if spilling is required.\n",
            "\u001b[36m(objective pid=19313)\u001b[0m [RayXGBoost] Finished XGBoost training on training data with total N=1,000 in 29.32 seconds (17.15 pure XGBoost training time).\u001b[32m [repeated 3x across cluster]\u001b[0m\n",
            "\u001b[36m(objective pid=19556)\u001b[0m [RayXGBoost] Created 2 new actors (2 total actors). Waiting until actors are ready for training.\n",
            "\u001b[33m(raylet)\u001b[0m [2025-08-30 10:08:19,453 E 19287 1594363] (raylet) file_system_monitor.cc:111: /tmp/ray/session_2025-08-30_10-07-26_200899_12308 is over 95% full, available space: 8098017280; capacity: 250685575168. Object creation will fail if spilling is required.\n",
            "\u001b[36m(objective pid=19563)\u001b[0m [RayXGBoost] Created 2 new actors (2 total actors). Waiting until actors are ready for training.\u001b[32m [repeated 2x across cluster]\u001b[0m\n",
            "\u001b[36m(objective pid=19562)\u001b[0m [RayXGBoost] Starting XGBoost training.\n",
            "\u001b[36m(objective pid=19589)\u001b[0m [RayXGBoost] Created 2 new actors (2 total actors). Waiting until actors are ready for training.\n",
            "\u001b[36m(_RemoteRayXGBoostActor pid=19613)\u001b[0m [10:08:25] task [xgboost.ray]:4348602816 got new rank 0\n",
            "\u001b[33m(raylet)\u001b[0m [2025-08-30 10:08:29,510 E 19287 1594363] (raylet) file_system_monitor.cc:111: /tmp/ray/session_2025-08-30_10-07-26_200899_12308 is over 95% full, available space: 8097558528; capacity: 250685575168. Object creation will fail if spilling is required.\n",
            "\u001b[36m(objective pid=19589)\u001b[0m [RayXGBoost] Starting XGBoost training.\u001b[32m [repeated 3x across cluster]\u001b[0m\n",
            "\u001b[36m(_RemoteRayXGBoostActor pid=19668)\u001b[0m [10:08:30] task [xgboost.ray]:7143946480 got new rank 1\u001b[32m [repeated 6x across cluster]\u001b[0m\n",
            "\u001b[33m(raylet)\u001b[0m [2025-08-30 10:08:39,549 E 19287 1594363] (raylet) file_system_monitor.cc:111: /tmp/ray/session_2025-08-30_10-07-26_200899_12308 is over 95% full, available space: 8097177600; capacity: 250685575168. Object creation will fail if spilling is required.\n",
            "\u001b[36m(_RemoteRayXGBoostActor pid=19667)\u001b[0m [10:08:30] task [xgboost.ray]:7090338416 got new rank 0\n",
            "\u001b[36m(objective pid=19563)\u001b[0m [RayXGBoost] Finished XGBoost training on training data with total N=1,000 in 27.33 seconds (15.14 pure XGBoost training time).\n",
            "\u001b[36m(objective pid=19589)\u001b[0m [RayXGBoost] Finished XGBoost training on training data with total N=1,000 in 28.79 seconds (18.32 pure XGBoost training time).\u001b[32m [repeated 3x across cluster]\u001b[0m\n",
            "\u001b[33m(raylet)\u001b[0m [2025-08-30 10:08:49,593 E 19287 1594363] (raylet) file_system_monitor.cc:111: /tmp/ray/session_2025-08-30_10-07-26_200899_12308 is over 95% full, available space: 8096845824; capacity: 250685575168. Object creation will fail if spilling is required.\n",
            "\u001b[36m(objective pid=19803)\u001b[0m [RayXGBoost] Created 2 new actors (2 total actors). Waiting until actors are ready for training.\n",
            "\u001b[33m(raylet)\u001b[0m [2025-08-30 10:08:59,651 E 19287 1594363] (raylet) file_system_monitor.cc:111: /tmp/ray/session_2025-08-30_10-07-26_200899_12308 is over 95% full, available space: 8096243712; capacity: 250685575168. Object creation will fail if spilling is required.\n",
            "\u001b[36m(objective pid=19802)\u001b[0m [RayXGBoost] Created 2 new actors (2 total actors). Waiting until actors are ready for training.\n",
            "\u001b[36m(objective pid=19803)\u001b[0m [RayXGBoost] Starting XGBoost training.\n",
            "\u001b[36m(_RemoteRayXGBoostActor pid=19865)\u001b[0m [10:08:59] task [xgboost.ray]:6973554960 got new rank 1\n",
            "\u001b[33m(raylet)\u001b[0m [2025-08-30 10:09:09,699 E 19287 1594363] (raylet) file_system_monitor.cc:111: /tmp/ray/session_2025-08-30_10-07-26_200899_12308 is over 95% full, available space: 8096014336; capacity: 250685575168. Object creation will fail if spilling is required.\n",
            "\u001b[36m(objective pid=19802)\u001b[0m [RayXGBoost] Starting XGBoost training.\n",
            "\u001b[36m(_RemoteRayXGBoostActor pid=19867)\u001b[0m [10:08:59] task [xgboost.ray]:7200962512 got new rank 1\u001b[32m [repeated 3x across cluster]\u001b[0m\n",
            "\u001b[36m(objective pid=19802)\u001b[0m [RayXGBoost] Finished XGBoost training on training data with total N=1,000 in 17.81 seconds (10.39 pure XGBoost training time).\n",
            "2025-08-30 10:09:10,406\tINFO tune.py:1009 -- Wrote the latest version of all result files and experiment state to '/Users/venkat/ray_results/objective_2025-08-30_10-07-31' in 0.0655s.\n",
            "2025-08-30 10:09:10,421\tINFO tune.py:1041 -- Total run time: 98.56 seconds (98.46 seconds for the tuning loop).\n"
          ]
        },
        {
          "name": "stderr",
          "output_type": "stream",
          "text": [
            "\u001b[33m(raylet)\u001b[0m [2025-08-30 10:09:19,784 E 19287 1594363] (raylet) file_system_monitor.cc:111: /tmp/ray/session_2025-08-30_10-07-26_200899_12308 is over 95% full, available space: 8095825920; capacity: 250685575168. Object creation will fail if spilling is required.\n"
          ]
        }
      ],
      "source": [
        "from ray import tune\n",
        "from ray.tune import PlacementGroupFactory\n",
        "from xgboost_ray import RayParams, train\n",
        "\n",
        "ray.shutdown()\n",
        "ray.init()\n",
        "x = np.array(range(1000)).reshape(-1, 1)\n",
        "y = (x**2 + 10).flatten() # Flatten y to make it 1D\n",
        "\n",
        "train_set = RayDMatrix(x, y)\n",
        "\n",
        "def objective(params, num_boost_round=1000):\n",
        "    evals_result = {}\n",
        "    bst = train(\n",
        "        params,\n",
        "        train_set,\n",
        "        num_boost_round=num_boost_round,\n",
        "        evals_result=evals_result,\n",
        "        evals=[(train_set, \"train\")],\n",
        "        verbose_eval=False,\n",
        "        ray_params=RayParams(num_actors=2, cpus_per_actor=1)\n",
        "    )\n",
        "    # tune.report({\"rmse\": evals_result[\"train\"][\"rmse\"][-1]})\n",
        "    return {\"rmse\": evals_result[\"train\"][\"rmse\"][-1]}\n",
        "\n",
        "config = {\n",
        "    \"objective\": \"reg:squarederror\",\n",
        "    \"eval_metric\": [\"rmse\"],\n",
        "    \"tree_method\": \"hist\",\n",
        "    \"max_depth\": tune.randint(1, 9),\n",
        "    \"min_child_weight\": tune.choice([1, 2, 3]),\n",
        "    \"subsample\": tune.uniform(0.5, 1.0),\n",
        "    \"eta\": tune.loguniform(1e-4, 1e-1),\n",
        "}\n",
        "\n",
        "resources_per_trial = PlacementGroupFactory(\n",
        "    [{\"CPU\": 1}] + [{\"CPU\": 2}] * 1\n",
        ")\n",
        "\n",
        "tuner = tune.Tuner(\n",
        "    tune.with_resources(objective, resources=resources_per_trial),\n",
        "    tune_config=tune.TuneConfig(num_samples=10, max_concurrent_trials=4),\n",
        "    param_space=config,\n",
        ")\n",
        "\n",
        "results = tuner.fit()\n"
      ]
    },
    {
      "cell_type": "code",
      "execution_count": 20,
      "metadata": {
        "colab": {
          "base_uri": "https://localhost:8080/"
        },
        "id": "tdUpbkl85PbT",
        "outputId": "6c48c768-d04b-4bc0-b3fc-5326648984b2"
      },
      "outputs": [
        {
          "name": "stderr",
          "output_type": "stream",
          "text": [
            "2025-08-30 10:09:20,346\tINFO main.py:1140 -- [RayXGBoost] Created 2 new actors (2 total actors). Waiting until actors are ready for training.\n"
          ]
        },
        {
          "name": "stdout",
          "output_type": "stream",
          "text": [
            "{'objective': 'reg:squarederror', 'eval_metric': ['rmse'], 'tree_method': 'hist', 'max_depth': 8, 'min_child_weight': 3, 'subsample': 0.5275071058863638, 'eta': 0.08226308004817766}\n"
          ]
        },
        {
          "name": "stderr",
          "output_type": "stream",
          "text": [
            "2025-08-30 10:09:24,162\tINFO main.py:1191 -- [RayXGBoost] Starting XGBoost training.\n",
            "\u001b[36m(_RemoteRayXGBoostActor pid=20058)\u001b[0m [10:09:24] task [xgboost.ray]:7149488224 got new rank 0\n",
            "2025-08-30 10:09:29,240\tINFO main.py:1708 -- [RayXGBoost] Finished XGBoost training on training data with total N=1,000 in 8.99 seconds (5.07 pure XGBoost training time).\n"
          ]
        },
        {
          "data": {
            "text/plain": [
              "{'rmse': 1284.2058154110255}"
            ]
          },
          "execution_count": 20,
          "metadata": {},
          "output_type": "execute_result"
        },
        {
          "name": "stderr",
          "output_type": "stream",
          "text": [
            "\u001b[33m(raylet)\u001b[0m [2025-08-30 10:09:29,849 E 19287 1594363] (raylet) file_system_monitor.cc:111: /tmp/ray/session_2025-08-30_10-07-26_200899_12308 is over 95% full, available space: 8095186944; capacity: 250685575168. Object creation will fail if spilling is required.\n",
            "\u001b[33m(raylet)\u001b[0m [2025-08-30 10:09:39,912 E 19287 1594363] (raylet) file_system_monitor.cc:111: /tmp/ray/session_2025-08-30_10-07-26_200899_12308 is over 95% full, available space: 8094883840; capacity: 250685575168. Object creation will fail if spilling is required.\n",
            "\u001b[33m(raylet)\u001b[0m [2025-08-30 10:09:49,917 E 19287 1594363] (raylet) file_system_monitor.cc:111: /tmp/ray/session_2025-08-30_10-07-26_200899_12308 is over 95% full, available space: 8094093312; capacity: 250685575168. Object creation will fail if spilling is required.\n",
            "\u001b[33m(raylet)\u001b[0m [2025-08-30 10:09:59,924 E 19287 1594363] (raylet) file_system_monitor.cc:111: /tmp/ray/session_2025-08-30_10-07-26_200899_12308 is over 95% full, available space: 8094842880; capacity: 250685575168. Object creation will fail if spilling is required.\n",
            "\u001b[33m(raylet)\u001b[0m [2025-08-30 10:10:09,999 E 19287 1594363] (raylet) file_system_monitor.cc:111: /tmp/ray/session_2025-08-30_10-07-26_200899_12308 is over 95% full, available space: 8094068736; capacity: 250685575168. Object creation will fail if spilling is required.\n"
          ]
        }
      ],
      "source": [
        "best_result = results.get_best_result(metric=\"rmse\", mode=\"min\")\n",
        "print(best_result.config)\n",
        "\n",
        "objective(best_result.config, 500)"
      ]
    },
    {
      "cell_type": "code",
      "execution_count": 21,
      "metadata": {
        "id": "h8RJoox0CsHg"
      },
      "outputs": [],
      "source": [
        "ray.shutdown()"
      ]
    }
  ],
  "metadata": {
    "colab": {
      "provenance": []
    },
    "kernelspec": {
      "display_name": "base",
      "language": "python",
      "name": "python3"
    },
    "language_info": {
      "codemirror_mode": {
        "name": "ipython",
        "version": 3
      },
      "file_extension": ".py",
      "mimetype": "text/x-python",
      "name": "python",
      "nbconvert_exporter": "python",
      "pygments_lexer": "ipython3",
      "version": "3.12.2"
    }
  },
  "nbformat": 4,
  "nbformat_minor": 0
}
