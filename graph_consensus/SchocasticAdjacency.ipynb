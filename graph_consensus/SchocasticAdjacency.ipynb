{
  "nbformat": 4,
  "nbformat_minor": 0,
  "metadata": {
    "colab": {
      "provenance": [],
      "authorship_tag": "ABX9TyPgs7RdPmKfAmVToLr/4irw",
      "include_colab_link": true
    },
    "kernelspec": {
      "name": "python3",
      "display_name": "Python 3"
    },
    "language_info": {
      "name": "python"
    }
  },
  "cells": [
    {
      "cell_type": "markdown",
      "metadata": {
        "id": "view-in-github",
        "colab_type": "text"
      },
      "source": [
        "<a href=\"https://colab.research.google.com/github/vadhri/distibuted-optimization/blob/main/graph-based-topology/SchocasticAdjacency.ipynb\" target=\"_parent\"><img src=\"https://colab.research.google.com/assets/colab-badge.svg\" alt=\"Open In Colab\"/></a>"
      ]
    },
    {
      "cell_type": "code",
      "source": [
        "!pip install igraph"
      ],
      "metadata": {
        "colab": {
          "base_uri": "https://localhost:8080/"
        },
        "id": "LpXhaJfBo-sY",
        "outputId": "2064b678-59f7-4948-d4b4-e65152ee0832"
      },
      "execution_count": 3,
      "outputs": [
        {
          "output_type": "stream",
          "name": "stdout",
          "text": [
            "Collecting igraph\n",
            "  Downloading igraph-0.11.9-cp39-abi3-manylinux_2_17_x86_64.manylinux2014_x86_64.whl.metadata (4.4 kB)\n",
            "Collecting texttable>=1.6.2 (from igraph)\n",
            "  Downloading texttable-1.7.0-py2.py3-none-any.whl.metadata (9.8 kB)\n",
            "Downloading igraph-0.11.9-cp39-abi3-manylinux_2_17_x86_64.manylinux2014_x86_64.whl (4.4 MB)\n",
            "\u001b[2K   \u001b[90m━━━━━━━━━━━━━━━━━━━━━━━━━━━━━━━━━━━━━━━━\u001b[0m \u001b[32m4.4/4.4 MB\u001b[0m \u001b[31m32.1 MB/s\u001b[0m eta \u001b[36m0:00:00\u001b[0m\n",
            "\u001b[?25hDownloading texttable-1.7.0-py2.py3-none-any.whl (10 kB)\n",
            "Installing collected packages: texttable, igraph\n",
            "Successfully installed igraph-0.11.9 texttable-1.7.0\n"
          ]
        }
      ]
    },
    {
      "cell_type": "code",
      "execution_count": 11,
      "metadata": {
        "colab": {
          "base_uri": "https://localhost:8080/"
        },
        "id": "_psMI3renygE",
        "outputId": "ffd44895-998a-42b1-db0f-7388fb18ec88"
      },
      "outputs": [
        {
          "output_type": "stream",
          "name": "stdout",
          "text": [
            "is matrix power method close to sign consensus ?  True\n"
          ]
        }
      ],
      "source": [
        "import numpy as np\n",
        "import igraph as ig\n",
        "\n",
        "N = 100\n",
        "orig = np.random.uniform(500, 600, size=N)\n",
        "\n",
        "g = ig.Graph.Full(n=N)\n",
        "\n",
        "A = g.get_adjacency()\n",
        "A = np.full((N, N), 1.0 / (N - 1))\n",
        "np.fill_diagonal(A, 0)\n",
        "A = np.linalg.matrix_power(A,10)\n",
        "\n",
        "np.dot(A, orig)\n",
        "\n",
        "print('is matrix power method close to sign consensus ? ', np.all(np.isclose(np.average(orig), np.dot(A, orig)[0], atol=1e-1)))\n"
      ]
    },
    {
      "cell_type": "code",
      "source": [
        "import numpy as np\n",
        "import igraph as ig\n",
        "\n",
        "def sinkhorn_knopp(A, max_iters=20000, tol=1e-8):\n",
        "    \"\"\"\n",
        "    Make matrix doubly stochastic using Sinkhorn-Knopp algorithm.\n",
        "    Assumes A is non-negative and has full support (i.e., connected graph).\n",
        "    \"\"\"\n",
        "    A = A.copy().astype(float)\n",
        "    for _ in range(max_iters):\n",
        "        A /= A.sum(axis=1, keepdims=True)  # Row normalize\n",
        "        A /= A.sum(axis=0, keepdims=True)  # Column normalize\n",
        "        if np.allclose(A.sum(axis=1), 1, atol=tol) and np.allclose(A.sum(axis=0), 1, atol=tol):\n",
        "            break\n",
        "    return A\n",
        "\n",
        "# 1. Create connected undirected graph\n",
        "N = 40\n",
        "g = ig.Graph.Erdos_Renyi(n=N, m=N*3, directed=False)\n",
        "assert g.is_connected(), \"Graph must be connected\"\n",
        "\n",
        "# 2. Get adjacency matrix\n",
        "A = np.array(g.get_adjacency().data, dtype=float)\n",
        "\n",
        "# 3. Make it doubly stochastic\n",
        "W = sinkhorn_knopp(A)\n",
        "\n",
        "# 4. Initialize state vector\n",
        "x0 = np.random.uniform(500, 600, size=N)\n",
        "\n",
        "# 5. Apply consensus iterations via matrix power (or repeated multiplication)\n",
        "W_power = np.linalg.matrix_power(W, 100)\n",
        "x_consensus = W_power @ x0\n",
        "\n",
        "# 6. Report results\n",
        "print(\"Original average:\", np.mean(x0))\n",
        "print(\"Consensus values (first 5):\", x_consensus[:5])\n",
        "print(\"All values ≈ average?\", np.allclose(x_consensus, np.mean(x0), atol=1e-3))\n"
      ],
      "metadata": {
        "colab": {
          "base_uri": "https://localhost:8080/"
        },
        "id": "eu_M5tcvo5TU",
        "outputId": "cfb78464-5462-4894-fccd-b8f230c1353a"
      },
      "execution_count": 26,
      "outputs": [
        {
          "output_type": "stream",
          "name": "stdout",
          "text": [
            "Original average: 549.9770441044773\n",
            "Consensus values (first 5): [549.19851899 549.19852215 549.19854864 549.19853585 549.19881427]\n",
            "All values ≈ average? False\n"
          ]
        }
      ]
    },
    {
      "cell_type": "code",
      "source": [],
      "metadata": {
        "id": "lmwGw-UGrlUX"
      },
      "execution_count": null,
      "outputs": []
    }
  ]
}